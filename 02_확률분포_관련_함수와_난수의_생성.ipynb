{
  "nbformat": 4,
  "nbformat_minor": 0,
  "metadata": {
    "colab": {
      "provenance": [],
      "authorship_tag": "ABX9TyPLM15o7aWiMVB0mCMVaHcD",
      "include_colab_link": true
    },
    "kernelspec": {
      "name": "ir",
      "display_name": "R"
    },
    "language_info": {
      "name": "R"
    }
  },
  "cells": [
    {
      "cell_type": "markdown",
      "metadata": {
        "id": "view-in-github",
        "colab_type": "text"
      },
      "source": [
        "<a href=\"https://colab.research.google.com/github/bigdata233/Mathematical-Staitstics-R-Practice/blob/main/02_%ED%99%95%EB%A5%A0%EB%B6%84%ED%8F%AC_%EA%B4%80%EB%A0%A8_%ED%95%A8%EC%88%98%EC%99%80_%EB%82%9C%EC%88%98%EC%9D%98_%EC%83%9D%EC%84%B1.ipynb\" target=\"_parent\"><img src=\"https://colab.research.google.com/assets/colab-badge.svg\" alt=\"Open In Colab\"/></a>"
      ]
    },
    {
      "cell_type": "code",
      "execution_count": 7,
      "metadata": {
        "id": "ash4DrBINpgy",
        "colab": {
          "base_uri": "https://localhost:8080/",
          "height": 243
        },
        "outputId": "4a948631-56b1-443a-a2e1-1abf476a0cd6"
      },
      "outputs": [
        {
          "output_type": "display_data",
          "data": {
            "text/html": [
              "0.00443184841193801"
            ],
            "text/markdown": "0.00443184841193801",
            "text/latex": "0.00443184841193801",
            "text/plain": [
              "[1] 0.004431848"
            ]
          },
          "metadata": {}
        },
        {
          "output_type": "display_data",
          "data": {
            "text/html": [
              "<style>\n",
              ".list-inline {list-style: none; margin:0; padding: 0}\n",
              ".list-inline>li {display: inline-block}\n",
              ".list-inline>li:not(:last-child)::after {content: \"\\00b7\"; padding: 0 .5ex}\n",
              "</style>\n",
              "<ol class=list-inline><li>0.0539909665131881</li><li>0.398942280401433</li><li>0.0539909665131881</li></ol>\n"
            ],
            "text/markdown": "1. 0.0539909665131881\n2. 0.398942280401433\n3. 0.0539909665131881\n\n\n",
            "text/latex": "\\begin{enumerate*}\n\\item 0.0539909665131881\n\\item 0.398942280401433\n\\item 0.0539909665131881\n\\end{enumerate*}\n",
            "text/plain": [
              "[1] 0.05399097 0.39894228 0.05399097"
            ]
          },
          "metadata": {}
        },
        {
          "output_type": "display_data",
          "data": {
            "text/html": [
              "0.977249868051821"
            ],
            "text/markdown": "0.977249868051821",
            "text/latex": "0.977249868051821",
            "text/plain": [
              "[1] 0.9772499"
            ]
          },
          "metadata": {}
        },
        {
          "output_type": "display_data",
          "data": {
            "text/html": [
              "0.0227501319481792"
            ],
            "text/markdown": "0.0227501319481792",
            "text/latex": "0.0227501319481792",
            "text/plain": [
              "[1] 0.02275013"
            ]
          },
          "metadata": {}
        },
        {
          "output_type": "display_data",
          "data": {
            "text/html": [
              "0.401293674317076"
            ],
            "text/markdown": "0.401293674317076",
            "text/latex": "0.401293674317076",
            "text/plain": [
              "[1] 0.4012937"
            ]
          },
          "metadata": {}
        },
        {
          "output_type": "display_data",
          "data": {
            "text/html": [
              "1.64485362695147"
            ],
            "text/markdown": "1.64485362695147",
            "text/latex": "1.64485362695147",
            "text/plain": [
              "[1] 1.644854"
            ]
          },
          "metadata": {}
        },
        {
          "output_type": "display_data",
          "data": {
            "text/html": [
              "-1.64485362695147"
            ],
            "text/markdown": "-1.64485362695147",
            "text/latex": "-1.64485362695147",
            "text/plain": [
              "[1] -1.644854"
            ]
          },
          "metadata": {}
        },
        {
          "output_type": "display_data",
          "data": {
            "text/html": [
              "-0.563103131089202"
            ],
            "text/markdown": "-0.563103131089202",
            "text/latex": "-0.563103131089202",
            "text/plain": [
              "[1] -0.5631031"
            ]
          },
          "metadata": {}
        },
        {
          "output_type": "display_data",
          "data": {
            "text/html": [
              "<style>\n",
              ".list-inline {list-style: none; margin:0; padding: 0}\n",
              ".list-inline>li {display: inline-block}\n",
              ".list-inline>li:not(:last-child)::after {content: \"\\00b7\"; padding: 0 .5ex}\n",
              "</style>\n",
              "<ol class=list-inline><li>1.00433170109336</li><li>-0.171712913780087</li><li>0.660246901829938</li><li>-0.541460744836755</li><li>0.216099507695068</li><li>1.97460322734356</li><li>-0.962248130105986</li><li>-1.45826077427594</li><li>0.782436740293666</li><li>0.494830408092726</li></ol>\n"
            ],
            "text/markdown": "1. 1.00433170109336\n2. -0.171712913780087\n3. 0.660246901829938\n4. -0.541460744836755\n5. 0.216099507695068\n6. 1.97460322734356\n7. -0.962248130105986\n8. -1.45826077427594\n9. 0.782436740293666\n10. 0.494830408092726\n\n\n",
            "text/latex": "\\begin{enumerate*}\n\\item 1.00433170109336\n\\item -0.171712913780087\n\\item 0.660246901829938\n\\item -0.541460744836755\n\\item 0.216099507695068\n\\item 1.97460322734356\n\\item -0.962248130105986\n\\item -1.45826077427594\n\\item 0.782436740293666\n\\item 0.494830408092726\n\\end{enumerate*}\n",
            "text/plain": [
              " [1]  1.0043317 -0.1717129  0.6602469 -0.5414607  0.2160995  1.9746032\n",
              " [7] -0.9622481 -1.4582608  0.7824367  0.4948304"
            ]
          },
          "metadata": {}
        },
        {
          "output_type": "display_data",
          "data": {
            "text/html": [
              "<style>\n",
              ".list-inline {list-style: none; margin:0; padding: 0}\n",
              ".list-inline>li {display: inline-block}\n",
              ".list-inline>li:not(:last-child)::after {content: \"\\00b7\"; padding: 0 .5ex}\n",
              "</style>\n",
              "<ol class=list-inline><li>2.02409302847415</li><li>4.04287314118136</li><li>0.578201341414714</li><li>-1.85607415190839</li><li>0.92992386796374</li><li>-0.263982172812541</li><li>1.61229458785533</li><li>2.73918016632101</li><li>-0.221166487835694</li><li>3.63318461189495</li><li>3.87678994223874</li><li>0.136250900223842</li><li>-0.687850745160892</li><li>4.04791818182583</li><li>-1.98864174580192</li></ol>\n"
            ],
            "text/markdown": "1. 2.02409302847415\n2. 4.04287314118136\n3. 0.578201341414714\n4. -1.85607415190839\n5. 0.92992386796374\n6. -0.263982172812541\n7. 1.61229458785533\n8. 2.73918016632101\n9. -0.221166487835694\n10. 3.63318461189495\n11. 3.87678994223874\n12. 0.136250900223842\n13. -0.687850745160892\n14. 4.04791818182583\n15. -1.98864174580192\n\n\n",
            "text/latex": "\\begin{enumerate*}\n\\item 2.02409302847415\n\\item 4.04287314118136\n\\item 0.578201341414714\n\\item -1.85607415190839\n\\item 0.92992386796374\n\\item -0.263982172812541\n\\item 1.61229458785533\n\\item 2.73918016632101\n\\item -0.221166487835694\n\\item 3.63318461189495\n\\item 3.87678994223874\n\\item 0.136250900223842\n\\item -0.687850745160892\n\\item 4.04791818182583\n\\item -1.98864174580192\n\\end{enumerate*}\n",
            "text/plain": [
              " [1]  2.0240930  4.0428731  0.5782013 -1.8560742  0.9299239 -0.2639822\n",
              " [7]  1.6122946  2.7391802 -0.2211665  3.6331846  3.8767899  0.1362509\n",
              "[13] -0.6878507  4.0479182 -1.9886417"
            ]
          },
          "metadata": {}
        }
      ],
      "source": [
        "#(1) 정규분포\n",
        "#dnorm() - pdf 값 계산\n",
        "dnorm(3, mean=0, sd=1)    #3에서의 N(0,1^2) pdf 값\n",
        "x=c(-2,0,2)\n",
        "dnorm(x,mean=0,sd=1)    #벡터에 대해서도 계산 가능\n",
        "\n",
        "#pnorm() - cdf 값 계산\n",
        "pnorm(2,mean=0,sd=1)    #P(Z<=2)의 값 계산\n",
        "pnorm(2,mean=0,sd=1,lower.tail=FALSE)   #P(Z>2)의 값 계산\n",
        "pnorm(-2,mean=-1,sd=4)    # X~N(-1,4^2)일 때, P(X<=-2)의 값 계산\n",
        "\n",
        "#qnorm() - 분위수(quantile) 출력\n",
        "qnorm(0.95, mean=0, sd=1)   #표준정규분포의 95% 하방 분위수\n",
        "qnorm(0.95, mean=0, sd=1, lower.tail = FALSE)  #표준정규분포의 95% 상방 분위수\n",
        "qnorm(0.1, mean=2, sd=2)  #N(2,2^2)의 10% 하방 분위수\n",
        "\n",
        "#rnorm() - 난수출력\n",
        "rnorm(10,mean=0,sd=1)\n",
        "rnorm(15,mean=1,sd=2)\n",
        "\n",
        "#R에서 제공되는 분포 관련 함수는 위의 정규분포에서의 예제에서 볼 수 있듯이 정규분포 함수의 기본적 명령어 'norm(mean, sd)'에 4가지 문자 'd'(pdf), 'p'(cdf), 'q'(quantile), 'r'(난수생성)가 결합되어 이루어진다.\n",
        "#이 방식은 다른 분포함수들에 대해서도 적용된다."
      ]
    },
    {
      "cell_type": "code",
      "source": [
        "#(2) 다른 분포로의 확장\n",
        "#이산형 확률변수\n",
        "#이항분포 - binom(value, size, probability)\n",
        "dbinom(15,size=400,p=0.02)    #B(400,0.02)에서 15일 확률\n",
        "\n",
        "#포아송분포 - pois(value,lambda)\n",
        "ppois(9,5)      # X ~ Poisson(5)를 따를 때, P(X<=9)의 값\n",
        "\n",
        "#초기하분포 - hyper(value,m,n,k)\n",
        "#H(5;60,6)의 누적확률 구하기\n",
        "\n",
        "x<-c(0,1,2,3,4,5)\n",
        "phyper(x,m=6,n=54,k=5)\n",
        "\n",
        "#감마분포 - gamma(value, shape, scale=1/rate)\n",
        "#예제) Gamma(2,3)의 상방 0.05 분위수\n",
        "qgamma(0.05,shape=2,scale=3,lower.tail=FALSE)\n",
        "\n",
        "#t분포 - t(value, df)\n",
        "qt(0.1, df=5, lower.tail=FALSE)     #t0.10(5)\n",
        "qt(0.05, df=5, lower.tail=FALSE)    #t0.05(5)\n",
        "qt(0.025, df=5, lower.tail=FALSE)   #t0.025(5)\n",
        "qt(0.005, df=5, lower.tail=FALSE)   #t0.005(5)\n",
        "\n",
        "#카이제곱분포 - chisq(value, df)\n",
        "qchisq(0.990, df=5, lower.tail=FALSE)   #chisq0.990(5)\n",
        "qchisq(0.975, df=5, lower.tail=FALSE)   #chisq0.975(5)\n",
        "qchisq(0.025, df=5, lower.tail=FALSE)   #chisq0.025(5)\n",
        "qchisq(0.010, df=5, lower.tail=FALSE)   #chisq0.010(5)\n",
        "\n",
        "#비중심 카이제곱분포\n",
        "dchisq(7, df=7, ncp=2)    #ncp는 비중심 모수(noncentral parameter)로 default값은 0이다.\n",
        "pchisq(7, df=7, ncp=2)\n",
        "qchisq(0.975, df=5, ncp=2, lower.tail=FALSE)\n",
        "\n",
        "#F분포 - f(value, df1, df2)\n",
        "#예 4.2.5) F0.975(5,10) = 1/F0.025(10,5) = 1/6.620 = 0.151 확인\n",
        "qf(0.975, df1=5, df2=10, lower.tail=FALSE)\n",
        "qf(0.025, df1=10, df2=5, lower.tail=FALSE)\n",
        "1/qf(0.025, df1=10, df2=5, lower.tail=FALSE)\n",
        "\n",
        "#예 4.2.5) t^2 0.025(5) =2.571^2 = 6.610, F0.05(1,5) = 6.610 확인\n",
        "qt(0.025,df=5,lower.tail=FALSE)\n",
        "(qt(0.025,df=5,lower.tail=FALSE))^2\n",
        "qf(0.05, df1=1, df2=5, lower.tail=FALSE)"
      ],
      "metadata": {
        "colab": {
          "base_uri": "https://localhost:8080/",
          "height": 382
        },
        "id": "gxANjGzWMJP5",
        "outputId": "14a7ab1e-0ae2-4586-daca-7c55066755b2"
      },
      "execution_count": 28,
      "outputs": [
        {
          "output_type": "display_data",
          "data": {
            "text/html": [
              "0.00863940857410809"
            ],
            "text/markdown": "0.00863940857410809",
            "text/latex": "0.00863940857410809",
            "text/plain": [
              "[1] 0.008639409"
            ]
          },
          "metadata": {}
        },
        {
          "output_type": "display_data",
          "data": {
            "text/html": [
              "0.968171942693795"
            ],
            "text/markdown": "0.968171942693795",
            "text/latex": "0.968171942693795",
            "text/plain": [
              "[1] 0.9681719"
            ]
          },
          "metadata": {}
        },
        {
          "output_type": "display_data",
          "data": {
            "text/html": [
              "<style>\n",
              ".list-inline {list-style: none; margin:0; padding: 0}\n",
              ".list-inline>li {display: inline-block}\n",
              ".list-inline>li:not(:last-child)::after {content: \"\\00b7\"; padding: 0 .5ex}\n",
              "</style>\n",
              "<ol class=list-inline><li>0.579053932317644</li><li>0.92648629170823</li><li>0.9946102837456</li><li>0.999850590825398</li><li>0.999998901403128</li><li>1</li></ol>\n"
            ],
            "text/markdown": "1. 0.579053932317644\n2. 0.92648629170823\n3. 0.9946102837456\n4. 0.999850590825398\n5. 0.999998901403128\n6. 1\n\n\n",
            "text/latex": "\\begin{enumerate*}\n\\item 0.579053932317644\n\\item 0.92648629170823\n\\item 0.9946102837456\n\\item 0.999850590825398\n\\item 0.999998901403128\n\\item 1\n\\end{enumerate*}\n",
            "text/plain": [
              "[1] 0.5790539 0.9264863 0.9946103 0.9998506 0.9999989 1.0000000"
            ]
          },
          "metadata": {}
        },
        {
          "output_type": "display_data",
          "data": {
            "text/html": [
              "14.2315935551717"
            ],
            "text/markdown": "14.2315935551717",
            "text/latex": "14.2315935551717",
            "text/plain": [
              "[1] 14.23159"
            ]
          },
          "metadata": {}
        },
        {
          "output_type": "display_data",
          "data": {
            "text/html": [
              "1.47588404882448"
            ],
            "text/markdown": "1.47588404882448",
            "text/latex": "1.47588404882448",
            "text/plain": [
              "[1] 1.475884"
            ]
          },
          "metadata": {}
        },
        {
          "output_type": "display_data",
          "data": {
            "text/html": [
              "2.01504837333302"
            ],
            "text/markdown": "2.01504837333302",
            "text/latex": "2.01504837333302",
            "text/plain": [
              "[1] 2.015048"
            ]
          },
          "metadata": {}
        },
        {
          "output_type": "display_data",
          "data": {
            "text/html": [
              "2.57058183563632"
            ],
            "text/markdown": "2.57058183563632",
            "text/latex": "2.57058183563632",
            "text/plain": [
              "[1] 2.570582"
            ]
          },
          "metadata": {}
        },
        {
          "output_type": "display_data",
          "data": {
            "text/html": [
              "4.03214298355523"
            ],
            "text/markdown": "4.03214298355523",
            "text/latex": "4.03214298355523",
            "text/plain": [
              "[1] 4.032143"
            ]
          },
          "metadata": {}
        },
        {
          "output_type": "display_data",
          "data": {
            "text/html": [
              "0.554298076728277"
            ],
            "text/markdown": "0.554298076728277",
            "text/latex": "0.554298076728277",
            "text/plain": [
              "[1] 0.5542981"
            ]
          },
          "metadata": {}
        },
        {
          "output_type": "display_data",
          "data": {
            "text/html": [
              "0.831211613486663"
            ],
            "text/markdown": "0.831211613486663",
            "text/latex": "0.831211613486663",
            "text/plain": [
              "[1] 0.8312116"
            ]
          },
          "metadata": {}
        },
        {
          "output_type": "display_data",
          "data": {
            "text/html": [
              "12.83250199403"
            ],
            "text/markdown": "12.83250199403",
            "text/latex": "12.83250199403",
            "text/plain": [
              "[1] 12.8325"
            ]
          },
          "metadata": {}
        },
        {
          "output_type": "display_data",
          "data": {
            "text/html": [
              "15.086272469389"
            ],
            "text/markdown": "15.086272469389",
            "text/latex": "15.086272469389",
            "text/plain": [
              "[1] 15.08627"
            ]
          },
          "metadata": {}
        },
        {
          "output_type": "display_data",
          "data": {
            "text/html": [
              "0.0951305023551658"
            ],
            "text/markdown": "0.0951305023551658",
            "text/latex": "0.0951305023551658",
            "text/plain": [
              "[1] 0.0951305"
            ]
          },
          "metadata": {}
        },
        {
          "output_type": "display_data",
          "data": {
            "text/html": [
              "0.387258286776855"
            ],
            "text/markdown": "0.387258286776855",
            "text/latex": "0.387258286776855",
            "text/plain": [
              "[1] 0.3872583"
            ]
          },
          "metadata": {}
        },
        {
          "output_type": "display_data",
          "data": {
            "text/html": [
              "1.2257206599762"
            ],
            "text/markdown": "1.2257206599762",
            "text/latex": "1.2257206599762",
            "text/plain": [
              "[1] 1.225721"
            ]
          },
          "metadata": {}
        },
        {
          "output_type": "display_data",
          "data": {
            "text/html": [
              "0.151076701029982"
            ],
            "text/markdown": "0.151076701029982",
            "text/latex": "0.151076701029982",
            "text/plain": [
              "[1] 0.1510767"
            ]
          },
          "metadata": {}
        },
        {
          "output_type": "display_data",
          "data": {
            "text/html": [
              "6.61915433142497"
            ],
            "text/markdown": "6.61915433142497",
            "text/latex": "6.61915433142497",
            "text/plain": [
              "[1] 6.619154"
            ]
          },
          "metadata": {}
        },
        {
          "output_type": "display_data",
          "data": {
            "text/html": [
              "0.151076701029982"
            ],
            "text/markdown": "0.151076701029982",
            "text/latex": "0.151076701029982",
            "text/plain": [
              "[1] 0.1510767"
            ]
          },
          "metadata": {}
        },
        {
          "output_type": "display_data",
          "data": {
            "text/html": [
              "2.57058183563632"
            ],
            "text/markdown": "2.57058183563632",
            "text/latex": "2.57058183563632",
            "text/plain": [
              "[1] 2.570582"
            ]
          },
          "metadata": {}
        },
        {
          "output_type": "display_data",
          "data": {
            "text/html": [
              "6.60789097370337"
            ],
            "text/markdown": "6.60789097370337",
            "text/latex": "6.60789097370337",
            "text/plain": [
              "[1] 6.607891"
            ]
          },
          "metadata": {}
        },
        {
          "output_type": "display_data",
          "data": {
            "text/html": [
              "6.60789097370337"
            ],
            "text/markdown": "6.60789097370337",
            "text/latex": "6.60789097370337",
            "text/plain": [
              "[1] 6.607891"
            ]
          },
          "metadata": {}
        }
      ]
    }
  ]
}