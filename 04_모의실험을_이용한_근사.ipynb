{
  "nbformat": 4,
  "nbformat_minor": 0,
  "metadata": {
    "colab": {
      "provenance": [],
      "authorship_tag": "ABX9TyOn0X+ZyumR5JNUhugmggZE",
      "include_colab_link": true
    },
    "kernelspec": {
      "name": "ir",
      "display_name": "R"
    },
    "language_info": {
      "name": "R"
    }
  },
  "cells": [
    {
      "cell_type": "markdown",
      "metadata": {
        "id": "view-in-github",
        "colab_type": "text"
      },
      "source": [
        "<a href=\"https://colab.research.google.com/github/bigdata233/Mathematical-Staitstics-R-Practice/blob/main/04_%EB%AA%A8%EC%9D%98%EC%8B%A4%ED%97%98%EC%9D%84_%EC%9D%B4%EC%9A%A9%ED%95%9C_%EA%B7%BC%EC%82%AC.ipynb\" target=\"_parent\"><img src=\"https://colab.research.google.com/assets/colab-badge.svg\" alt=\"Open In Colab\"/></a>"
      ]
    },
    {
      "cell_type": "code",
      "execution_count": 19,
      "metadata": {
        "colab": {
          "base_uri": "https://localhost:8080/",
          "height": 684
        },
        "id": "oMux6PsJnV88",
        "outputId": "0fdd36a8-1de0-4110-ced9-a7495b3fb5be"
      },
      "outputs": [
        {
          "output_type": "display_data",
          "data": {
            "text/html": [
              "<table class=\"dataframe\">\n",
              "<caption>A matrix: 3 × 4 of type dbl</caption>\n",
              "<tbody>\n",
              "\t<tr><td>1</td><td>4</td><td>7</td><td>10</td></tr>\n",
              "\t<tr><td>2</td><td>5</td><td>8</td><td>11</td></tr>\n",
              "\t<tr><td>3</td><td>6</td><td>9</td><td>12</td></tr>\n",
              "</tbody>\n",
              "</table>\n"
            ],
            "text/markdown": "\nA matrix: 3 × 4 of type dbl\n\n| 1 | 4 | 7 | 10 |\n| 2 | 5 | 8 | 11 |\n| 3 | 6 | 9 | 12 |\n\n",
            "text/latex": "A matrix: 3 × 4 of type dbl\n\\begin{tabular}{llll}\n\t 1 & 4 & 7 & 10\\\\\n\t 2 & 5 & 8 & 11\\\\\n\t 3 & 6 & 9 & 12\\\\\n\\end{tabular}\n",
            "text/plain": [
              "     [,1] [,2] [,3] [,4]\n",
              "[1,] 1    4    7    10  \n",
              "[2,] 2    5    8    11  \n",
              "[3,] 3    6    9    12  "
            ]
          },
          "metadata": {}
        },
        {
          "output_type": "display_data",
          "data": {
            "text/html": [
              "7"
            ],
            "text/markdown": "7",
            "text/latex": "7",
            "text/plain": [
              "[1] 7"
            ]
          },
          "metadata": {}
        },
        {
          "output_type": "display_data",
          "data": {
            "text/html": [
              "6"
            ],
            "text/markdown": "6",
            "text/latex": "6",
            "text/plain": [
              "[1] 6"
            ]
          },
          "metadata": {}
        },
        {
          "output_type": "display_data",
          "data": {
            "text/html": [
              "<style>\n",
              ".list-inline {list-style: none; margin:0; padding: 0}\n",
              ".list-inline>li {display: inline-block}\n",
              ".list-inline>li:not(:last-child)::after {content: \"\\00b7\"; padding: 0 .5ex}\n",
              "</style>\n",
              "<ol class=list-inline><li>7</li><li>8</li><li>9</li></ol>\n"
            ],
            "text/markdown": "1. 7\n2. 8\n3. 9\n\n\n",
            "text/latex": "\\begin{enumerate*}\n\\item 7\n\\item 8\n\\item 9\n\\end{enumerate*}\n",
            "text/plain": [
              "[1] 7 8 9"
            ]
          },
          "metadata": {}
        },
        {
          "output_type": "display_data",
          "data": {
            "text/html": [
              "<style>\n",
              ".list-inline {list-style: none; margin:0; padding: 0}\n",
              ".list-inline>li {display: inline-block}\n",
              ".list-inline>li:not(:last-child)::after {content: \"\\00b7\"; padding: 0 .5ex}\n",
              "</style>\n",
              "<ol class=list-inline><li>2</li><li>5</li><li>8</li><li>11</li></ol>\n"
            ],
            "text/markdown": "1. 2\n2. 5\n3. 8\n4. 11\n\n\n",
            "text/latex": "\\begin{enumerate*}\n\\item 2\n\\item 5\n\\item 8\n\\item 11\n\\end{enumerate*}\n",
            "text/plain": [
              "[1]  2  5  8 11"
            ]
          },
          "metadata": {}
        },
        {
          "output_type": "display_data",
          "data": {
            "text/html": [
              "<table class=\"dataframe\">\n",
              "<caption>A matrix: 2 × 2 of type dbl</caption>\n",
              "<tbody>\n",
              "\t<tr><td>4</td><td>7</td></tr>\n",
              "\t<tr><td>5</td><td>8</td></tr>\n",
              "</tbody>\n",
              "</table>\n"
            ],
            "text/markdown": "\nA matrix: 2 × 2 of type dbl\n\n| 4 | 7 |\n| 5 | 8 |\n\n",
            "text/latex": "A matrix: 2 × 2 of type dbl\n\\begin{tabular}{ll}\n\t 4 & 7\\\\\n\t 5 & 8\\\\\n\\end{tabular}\n",
            "text/plain": [
              "     [,1] [,2]\n",
              "[1,] 4    7   \n",
              "[2,] 5    8   "
            ]
          },
          "metadata": {}
        },
        {
          "output_type": "display_data",
          "data": {
            "text/html": [
              "<style>\n",
              ".list-inline {list-style: none; margin:0; padding: 0}\n",
              ".list-inline>li {display: inline-block}\n",
              ".list-inline>li:not(:last-child)::after {content: \"\\00b7\"; padding: 0 .5ex}\n",
              "</style>\n",
              "<ol class=list-inline><li>4</li><li>5</li><li>6</li></ol>\n"
            ],
            "text/markdown": "1. 4\n2. 5\n3. 6\n\n\n",
            "text/latex": "\\begin{enumerate*}\n\\item 4\n\\item 5\n\\item 6\n\\end{enumerate*}\n",
            "text/plain": [
              "[1] 4 5 6"
            ]
          },
          "metadata": {}
        },
        {
          "output_type": "display_data",
          "data": {
            "text/html": [
              "-1.85283892284902"
            ],
            "text/markdown": "-1.85283892284902",
            "text/latex": "-1.85283892284902",
            "text/plain": [
              "[1] -1.852839"
            ]
          },
          "metadata": {}
        },
        {
          "output_type": "stream",
          "name": "stdout",
          "text": [
            "[1] 1.852839\n",
            "[1] 1.852839\n"
          ]
        },
        {
          "output_type": "display_data",
          "data": {
            "text/html": [
              "1.85283892284902"
            ],
            "text/markdown": "1.85283892284902",
            "text/latex": "1.85283892284902",
            "text/plain": [
              "[1] 1.852839"
            ]
          },
          "metadata": {}
        },
        {
          "output_type": "stream",
          "name": "stdout",
          "text": [
            "[1] 1\n",
            "[1] 1 2\n",
            "[1] 1 2 3\n",
            "[1] 1 2 3 4\n",
            "[1] 1 2 3 4 5\n"
          ]
        },
        {
          "output_type": "display_data",
          "data": {
            "text/html": [
              "55"
            ],
            "text/markdown": "55",
            "text/latex": "55",
            "text/plain": [
              "[1] 55"
            ]
          },
          "metadata": {}
        },
        {
          "output_type": "display_data",
          "data": {
            "text/html": [
              "<style>\n",
              ".list-inline {list-style: none; margin:0; padding: 0}\n",
              ".list-inline>li {display: inline-block}\n",
              ".list-inline>li:not(:last-child)::after {content: \"\\00b7\"; padding: 0 .5ex}\n",
              "</style>\n",
              "<ol class=list-inline><li>0.64528464875184</li><li>0.552122589433566</li><li>0.377402763115242</li><li>0.588737378595397</li><li>0.0495946242008358</li></ol>\n"
            ],
            "text/markdown": "1. 0.64528464875184\n2. 0.552122589433566\n3. 0.377402763115242\n4. 0.588737378595397\n5. 0.0495946242008358\n\n\n",
            "text/latex": "\\begin{enumerate*}\n\\item 0.64528464875184\n\\item 0.552122589433566\n\\item 0.377402763115242\n\\item 0.588737378595397\n\\item 0.0495946242008358\n\\end{enumerate*}\n",
            "text/plain": [
              "[1] 0.64528465 0.55212259 0.37740276 0.58873738 0.04959462"
            ]
          },
          "metadata": {}
        },
        {
          "output_type": "display_data",
          "data": {
            "text/html": [
              "<style>\n",
              ".list-inline {list-style: none; margin:0; padding: 0}\n",
              ".list-inline>li {display: inline-block}\n",
              ".list-inline>li:not(:last-child)::after {content: \"\\00b7\"; padding: 0 .5ex}\n",
              "</style>\n",
              "<ol class=list-inline><li>0.598375894969024</li><li>0.209250546086634</li><li>-0.500586865613571</li><li>0.358748215516757</li><li>-2.95300616013737</li></ol>\n"
            ],
            "text/markdown": "1. 0.598375894969024\n2. 0.209250546086634\n3. -0.500586865613571\n4. 0.358748215516757\n5. -2.95300616013737\n\n\n",
            "text/latex": "\\begin{enumerate*}\n\\item 0.598375894969024\n\\item 0.209250546086634\n\\item -0.500586865613571\n\\item 0.358748215516757\n\\item -2.95300616013737\n\\end{enumerate*}\n",
            "text/plain": [
              "[1]  0.5983759  0.2092505 -0.5005869  0.3587482 -2.9530062"
            ]
          },
          "metadata": {}
        },
        {
          "output_type": "display_data",
          "data": {
            "text/html": [
              "7.82763282819928"
            ],
            "text/markdown": "7.82763282819928",
            "text/latex": "7.82763282819928",
            "text/plain": [
              "[1] 7.827633"
            ]
          },
          "metadata": {}
        },
        {
          "output_type": "display_data",
          "data": {
            "text/html": [
              "4.52186208893537"
            ],
            "text/markdown": "4.52186208893537",
            "text/latex": "4.52186208893537",
            "text/plain": [
              "[1] 4.521862"
            ]
          },
          "metadata": {}
        },
        {
          "output_type": "display_data",
          "data": {
            "text/html": [
              "6.94134785876794"
            ],
            "text/markdown": "6.94134785876794",
            "text/latex": "6.94134785876794",
            "text/plain": [
              "[1] 6.941348"
            ]
          },
          "metadata": {}
        },
        {
          "output_type": "display_data",
          "data": {
            "text/html": [
              "8.71391779763061"
            ],
            "text/markdown": "8.71391779763061",
            "text/latex": "8.71391779763061",
            "text/plain": [
              "[1] 8.713918"
            ]
          },
          "metadata": {}
        },
        {
          "output_type": "display_data",
          "data": {
            "text/html": [
              "2.96"
            ],
            "text/markdown": "2.96",
            "text/latex": "2.96",
            "text/plain": [
              "[1] 2.96"
            ]
          },
          "metadata": {}
        }
      ],
      "source": [
        "#(1) 인덱싱(indexing)\n",
        "x<-seq(1,12,1)\n",
        "y<-matrix(x,3,4)\n",
        "y\n",
        "\n",
        "#원소추출 방법\n",
        "y[1,3]    #행렬 y의 1행 3열 원소\n",
        "z<-y[3,2]   #행렬 y의 3행 2열 원소를 z에 저장\n",
        "z\n",
        "\n",
        "#부분행렬 출력\n",
        "y[,3]   #행렬 y의 3열\n",
        "y[2,]   #행렬 y의 2행\n",
        "y[c(1,2),c(2,3)]    #행렬 y의 1,2행 2,3열을 갖는 부분 행렬\n",
        "z<-y[,2]      #행렬 y의 2열을 z에 저장\n",
        "z\n",
        "\n",
        "#(2) 조건문\n",
        "x<-rnorm(1,0,1)\n",
        "x\n",
        "if (x<0) print(abs(x))\n",
        "\n",
        "if (x<0) print(abs(x)) else print(x)\n",
        "ifelse(x<0,abs(x),x)\n",
        "\n",
        "#(3) 반복문\n",
        "for(i in 1:5) print(seq(1,i,1)) #1부터 5까지 i에 대한 실행을 진행\n",
        "#1부터 10까지 합 구하기\n",
        "sum=0   #sum 초기값 0 지정\n",
        "for(i in 1:10){sum=sum+i}   #sum에 1부터 차례로 숫자를 더해 나감\n",
        "sum   #저장된 sum을 출력\n",
        "\n",
        "#(4) 모의실험을 이용한 근사\n",
        "#예제 5.4.1) 로지스틱 분포 L(0,1)에서의 난수 생성\n",
        "u<-runif(5,min=0,max=1)   #U(0,1)에서 5개의 난수 생성\n",
        "u\n",
        "z<-log(u/(1-u))\n",
        "z\n",
        "\n",
        "#예제 5.4.2) 난수를 이용한 정적분의 근사\n",
        "n<-100\n",
        "x<-runif(n,min=0,max=1)*2+1\n",
        "y<-2*x^2\n",
        "bary=mean(y)\n",
        "bary\n",
        "sy=sd(y)\n",
        "sy\n",
        "bary-1.96*sy/sqrt(n)\n",
        "bary+1.96*sy/sqrt(n)\n",
        "\n",
        "#예제 5.4.5) 표본비율의 극한분포를 이용한 원주율 π의 근사\n",
        "n<-100\n",
        "u1<-runif(n,min=0,max=1)\n",
        "u2<-runif(n,min=0,max=1)\n",
        "x<-u1^2+u2^2\n",
        "for(i in 1:n){z[i]=ifelse(x[i]<=1,1,0)}\n",
        "phat = mean(z)\n",
        "4*phat"
      ]
    }
  ]
}