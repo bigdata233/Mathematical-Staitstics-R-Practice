{
  "nbformat": 4,
  "nbformat_minor": 0,
  "metadata": {
    "colab": {
      "provenance": [],
      "authorship_tag": "ABX9TyNRy2QHxD7crDdShbZ07Ofg",
      "include_colab_link": true
    },
    "kernelspec": {
      "name": "ir",
      "display_name": "R"
    },
    "language_info": {
      "name": "R"
    }
  },
  "cells": [
    {
      "cell_type": "markdown",
      "metadata": {
        "id": "view-in-github",
        "colab_type": "text"
      },
      "source": [
        "<a href=\"https://colab.research.google.com/github/bigdata233/Mathematical-Staitstics-R-Practice/blob/main/01_%EA%B8%B0%EC%B4%88%EC%A0%81%EC%9D%B8_%EC%88%AB%EC%9E%90_%EB%B2%A1%ED%84%B0_%ED%96%89%EB%A0%AC%EC%9D%98_%EA%B3%84%EC%82%B0.ipynb\" target=\"_parent\"><img src=\"https://colab.research.google.com/assets/colab-badge.svg\" alt=\"Open In Colab\"/></a>"
      ]
    },
    {
      "cell_type": "code",
      "source": [
        "#(1) 숫자\n",
        "# 기본적인 연산\n",
        "2+2\n",
        "(4+2)*3\n",
        "(2-5)/2\n",
        "\n",
        "# 수학함수\n",
        "sqrt(4)\n",
        "exp(-5)\n",
        "floor(4.34)\n",
        "round(4.3523,2)\n",
        "log2(5)\n",
        "log(2)\n",
        "2^(-2)\n",
        "\n",
        "#(2) 벡터(Vector)\n",
        "#seq() 함수\n",
        "seq(from=1, to=10, by=2)\t#1부터 10까지 2만큼 증가하는 자료\n",
        "seq(1,10,2)\t\t#from, to, by생략 가능\n",
        "x<-seq(1,10,2)\t#생성된 자료를 x 변수에 저장\n",
        "x\t#x에 저장된 값 출력\n",
        "\n",
        "#c() 함수\n",
        "c(1,2,3,4)\n",
        "x<-c(3,4,5,10,4)\n",
        "x\n",
        "\n",
        "#rep() 함수\n",
        "rep(1,5)\n",
        "x<-c(1,2,3,4)\n",
        "rep(x,3)\t\t#벡터 x를 3회 반복\n",
        "rep(c(2,3,5),c(4,3,2))\t\t#2를 4회, 3을 3회, 5를 2회 반복\n",
        "\n",
        "#유용한 함수\n",
        "x<-sample(1:10,10,replace=T)\n",
        "sum(x)\n",
        "min(x)\n",
        "sd(x)\n",
        "length(x)\n",
        "\n",
        "#(3) 행렬(Matrix)\n",
        "#matrix() 함수\n",
        "x<-seq(1,12)\n",
        "matrix(x,3,4)\t\t#byrow=False가 Default임 (열 부터 채워나감)\n",
        "matrix(x,4,3)\n",
        "matrix(x,4,3,byrow=TRUE)\n",
        "\n",
        "#행렬 연산 함수\n",
        "x<-matrix(c(2,3,2,3,5,3,1,6,8),3,3)\t\t#x는 3x3행렬\n",
        "solve(x)\t\t#x의 역행렬\n",
        "t(x)\t\t#x의 전치행렬"
      ],
      "metadata": {
        "colab": {
          "base_uri": "https://localhost:8080/",
          "height": 1000
        },
        "id": "pwjxyGStrfBy",
        "outputId": "472cd85c-fe4d-4098-872c-2fce599ba9d5"
      },
      "execution_count": 4,
      "outputs": [
        {
          "output_type": "display_data",
          "data": {
            "text/html": [
              "4"
            ],
            "text/markdown": "4",
            "text/latex": "4",
            "text/plain": [
              "[1] 4"
            ]
          },
          "metadata": {}
        },
        {
          "output_type": "display_data",
          "data": {
            "text/html": [
              "18"
            ],
            "text/markdown": "18",
            "text/latex": "18",
            "text/plain": [
              "[1] 18"
            ]
          },
          "metadata": {}
        },
        {
          "output_type": "display_data",
          "data": {
            "text/html": [
              "-1.5"
            ],
            "text/markdown": "-1.5",
            "text/latex": "-1.5",
            "text/plain": [
              "[1] -1.5"
            ]
          },
          "metadata": {}
        },
        {
          "output_type": "display_data",
          "data": {
            "text/html": [
              "2"
            ],
            "text/markdown": "2",
            "text/latex": "2",
            "text/plain": [
              "[1] 2"
            ]
          },
          "metadata": {}
        },
        {
          "output_type": "display_data",
          "data": {
            "text/html": [
              "0.00673794699908547"
            ],
            "text/markdown": "0.00673794699908547",
            "text/latex": "0.00673794699908547",
            "text/plain": [
              "[1] 0.006737947"
            ]
          },
          "metadata": {}
        },
        {
          "output_type": "display_data",
          "data": {
            "text/html": [
              "4"
            ],
            "text/markdown": "4",
            "text/latex": "4",
            "text/plain": [
              "[1] 4"
            ]
          },
          "metadata": {}
        },
        {
          "output_type": "display_data",
          "data": {
            "text/html": [
              "4.35"
            ],
            "text/markdown": "4.35",
            "text/latex": "4.35",
            "text/plain": [
              "[1] 4.35"
            ]
          },
          "metadata": {}
        },
        {
          "output_type": "display_data",
          "data": {
            "text/html": [
              "2.32192809488736"
            ],
            "text/markdown": "2.32192809488736",
            "text/latex": "2.32192809488736",
            "text/plain": [
              "[1] 2.321928"
            ]
          },
          "metadata": {}
        },
        {
          "output_type": "display_data",
          "data": {
            "text/html": [
              "0.693147180559945"
            ],
            "text/markdown": "0.693147180559945",
            "text/latex": "0.693147180559945",
            "text/plain": [
              "[1] 0.6931472"
            ]
          },
          "metadata": {}
        },
        {
          "output_type": "display_data",
          "data": {
            "text/html": [
              "0.25"
            ],
            "text/markdown": "0.25",
            "text/latex": "0.25",
            "text/plain": [
              "[1] 0.25"
            ]
          },
          "metadata": {}
        },
        {
          "output_type": "display_data",
          "data": {
            "text/html": [
              "<style>\n",
              ".list-inline {list-style: none; margin:0; padding: 0}\n",
              ".list-inline>li {display: inline-block}\n",
              ".list-inline>li:not(:last-child)::after {content: \"\\00b7\"; padding: 0 .5ex}\n",
              "</style>\n",
              "<ol class=list-inline><li>1</li><li>3</li><li>5</li><li>7</li><li>9</li></ol>\n"
            ],
            "text/markdown": "1. 1\n2. 3\n3. 5\n4. 7\n5. 9\n\n\n",
            "text/latex": "\\begin{enumerate*}\n\\item 1\n\\item 3\n\\item 5\n\\item 7\n\\item 9\n\\end{enumerate*}\n",
            "text/plain": [
              "[1] 1 3 5 7 9"
            ]
          },
          "metadata": {}
        },
        {
          "output_type": "display_data",
          "data": {
            "text/html": [
              "<style>\n",
              ".list-inline {list-style: none; margin:0; padding: 0}\n",
              ".list-inline>li {display: inline-block}\n",
              ".list-inline>li:not(:last-child)::after {content: \"\\00b7\"; padding: 0 .5ex}\n",
              "</style>\n",
              "<ol class=list-inline><li>1</li><li>3</li><li>5</li><li>7</li><li>9</li></ol>\n"
            ],
            "text/markdown": "1. 1\n2. 3\n3. 5\n4. 7\n5. 9\n\n\n",
            "text/latex": "\\begin{enumerate*}\n\\item 1\n\\item 3\n\\item 5\n\\item 7\n\\item 9\n\\end{enumerate*}\n",
            "text/plain": [
              "[1] 1 3 5 7 9"
            ]
          },
          "metadata": {}
        },
        {
          "output_type": "display_data",
          "data": {
            "text/html": [
              "<style>\n",
              ".list-inline {list-style: none; margin:0; padding: 0}\n",
              ".list-inline>li {display: inline-block}\n",
              ".list-inline>li:not(:last-child)::after {content: \"\\00b7\"; padding: 0 .5ex}\n",
              "</style>\n",
              "<ol class=list-inline><li>1</li><li>3</li><li>5</li><li>7</li><li>9</li></ol>\n"
            ],
            "text/markdown": "1. 1\n2. 3\n3. 5\n4. 7\n5. 9\n\n\n",
            "text/latex": "\\begin{enumerate*}\n\\item 1\n\\item 3\n\\item 5\n\\item 7\n\\item 9\n\\end{enumerate*}\n",
            "text/plain": [
              "[1] 1 3 5 7 9"
            ]
          },
          "metadata": {}
        },
        {
          "output_type": "display_data",
          "data": {
            "text/html": [
              "<style>\n",
              ".list-inline {list-style: none; margin:0; padding: 0}\n",
              ".list-inline>li {display: inline-block}\n",
              ".list-inline>li:not(:last-child)::after {content: \"\\00b7\"; padding: 0 .5ex}\n",
              "</style>\n",
              "<ol class=list-inline><li>1</li><li>2</li><li>3</li><li>4</li></ol>\n"
            ],
            "text/markdown": "1. 1\n2. 2\n3. 3\n4. 4\n\n\n",
            "text/latex": "\\begin{enumerate*}\n\\item 1\n\\item 2\n\\item 3\n\\item 4\n\\end{enumerate*}\n",
            "text/plain": [
              "[1] 1 2 3 4"
            ]
          },
          "metadata": {}
        },
        {
          "output_type": "display_data",
          "data": {
            "text/html": [
              "<style>\n",
              ".list-inline {list-style: none; margin:0; padding: 0}\n",
              ".list-inline>li {display: inline-block}\n",
              ".list-inline>li:not(:last-child)::after {content: \"\\00b7\"; padding: 0 .5ex}\n",
              "</style>\n",
              "<ol class=list-inline><li>3</li><li>4</li><li>5</li><li>10</li><li>4</li></ol>\n"
            ],
            "text/markdown": "1. 3\n2. 4\n3. 5\n4. 10\n5. 4\n\n\n",
            "text/latex": "\\begin{enumerate*}\n\\item 3\n\\item 4\n\\item 5\n\\item 10\n\\item 4\n\\end{enumerate*}\n",
            "text/plain": [
              "[1]  3  4  5 10  4"
            ]
          },
          "metadata": {}
        },
        {
          "output_type": "display_data",
          "data": {
            "text/html": [
              "<style>\n",
              ".list-inline {list-style: none; margin:0; padding: 0}\n",
              ".list-inline>li {display: inline-block}\n",
              ".list-inline>li:not(:last-child)::after {content: \"\\00b7\"; padding: 0 .5ex}\n",
              "</style>\n",
              "<ol class=list-inline><li>1</li><li>1</li><li>1</li><li>1</li><li>1</li></ol>\n"
            ],
            "text/markdown": "1. 1\n2. 1\n3. 1\n4. 1\n5. 1\n\n\n",
            "text/latex": "\\begin{enumerate*}\n\\item 1\n\\item 1\n\\item 1\n\\item 1\n\\item 1\n\\end{enumerate*}\n",
            "text/plain": [
              "[1] 1 1 1 1 1"
            ]
          },
          "metadata": {}
        },
        {
          "output_type": "display_data",
          "data": {
            "text/html": [
              "<style>\n",
              ".list-inline {list-style: none; margin:0; padding: 0}\n",
              ".list-inline>li {display: inline-block}\n",
              ".list-inline>li:not(:last-child)::after {content: \"\\00b7\"; padding: 0 .5ex}\n",
              "</style>\n",
              "<ol class=list-inline><li>1</li><li>2</li><li>3</li><li>4</li><li>1</li><li>2</li><li>3</li><li>4</li><li>1</li><li>2</li><li>3</li><li>4</li></ol>\n"
            ],
            "text/markdown": "1. 1\n2. 2\n3. 3\n4. 4\n5. 1\n6. 2\n7. 3\n8. 4\n9. 1\n10. 2\n11. 3\n12. 4\n\n\n",
            "text/latex": "\\begin{enumerate*}\n\\item 1\n\\item 2\n\\item 3\n\\item 4\n\\item 1\n\\item 2\n\\item 3\n\\item 4\n\\item 1\n\\item 2\n\\item 3\n\\item 4\n\\end{enumerate*}\n",
            "text/plain": [
              " [1] 1 2 3 4 1 2 3 4 1 2 3 4"
            ]
          },
          "metadata": {}
        },
        {
          "output_type": "display_data",
          "data": {
            "text/html": [
              "<style>\n",
              ".list-inline {list-style: none; margin:0; padding: 0}\n",
              ".list-inline>li {display: inline-block}\n",
              ".list-inline>li:not(:last-child)::after {content: \"\\00b7\"; padding: 0 .5ex}\n",
              "</style>\n",
              "<ol class=list-inline><li>2</li><li>2</li><li>2</li><li>2</li><li>3</li><li>3</li><li>3</li><li>5</li><li>5</li></ol>\n"
            ],
            "text/markdown": "1. 2\n2. 2\n3. 2\n4. 2\n5. 3\n6. 3\n7. 3\n8. 5\n9. 5\n\n\n",
            "text/latex": "\\begin{enumerate*}\n\\item 2\n\\item 2\n\\item 2\n\\item 2\n\\item 3\n\\item 3\n\\item 3\n\\item 5\n\\item 5\n\\end{enumerate*}\n",
            "text/plain": [
              "[1] 2 2 2 2 3 3 3 5 5"
            ]
          },
          "metadata": {}
        },
        {
          "output_type": "display_data",
          "data": {
            "text/html": [
              "60"
            ],
            "text/markdown": "60",
            "text/latex": "60",
            "text/plain": [
              "[1] 60"
            ]
          },
          "metadata": {}
        },
        {
          "output_type": "display_data",
          "data": {
            "text/html": [
              "1"
            ],
            "text/markdown": "1",
            "text/latex": "1",
            "text/plain": [
              "[1] 1"
            ]
          },
          "metadata": {}
        },
        {
          "output_type": "display_data",
          "data": {
            "text/html": [
              "3.23178657161089"
            ],
            "text/markdown": "3.23178657161089",
            "text/latex": "3.23178657161089",
            "text/plain": [
              "[1] 3.231787"
            ]
          },
          "metadata": {}
        },
        {
          "output_type": "display_data",
          "data": {
            "text/html": [
              "10"
            ],
            "text/markdown": "10",
            "text/latex": "10",
            "text/plain": [
              "[1] 10"
            ]
          },
          "metadata": {}
        },
        {
          "output_type": "display_data",
          "data": {
            "text/html": [
              "<table class=\"dataframe\">\n",
              "<caption>A matrix: 3 × 4 of type int</caption>\n",
              "<tbody>\n",
              "\t<tr><td>1</td><td>4</td><td>7</td><td>10</td></tr>\n",
              "\t<tr><td>2</td><td>5</td><td>8</td><td>11</td></tr>\n",
              "\t<tr><td>3</td><td>6</td><td>9</td><td>12</td></tr>\n",
              "</tbody>\n",
              "</table>\n"
            ],
            "text/markdown": "\nA matrix: 3 × 4 of type int\n\n| 1 | 4 | 7 | 10 |\n| 2 | 5 | 8 | 11 |\n| 3 | 6 | 9 | 12 |\n\n",
            "text/latex": "A matrix: 3 × 4 of type int\n\\begin{tabular}{llll}\n\t 1 & 4 & 7 & 10\\\\\n\t 2 & 5 & 8 & 11\\\\\n\t 3 & 6 & 9 & 12\\\\\n\\end{tabular}\n",
            "text/plain": [
              "     [,1] [,2] [,3] [,4]\n",
              "[1,] 1    4    7    10  \n",
              "[2,] 2    5    8    11  \n",
              "[3,] 3    6    9    12  "
            ]
          },
          "metadata": {}
        },
        {
          "output_type": "display_data",
          "data": {
            "text/html": [
              "<table class=\"dataframe\">\n",
              "<caption>A matrix: 4 × 3 of type int</caption>\n",
              "<tbody>\n",
              "\t<tr><td>1</td><td>5</td><td> 9</td></tr>\n",
              "\t<tr><td>2</td><td>6</td><td>10</td></tr>\n",
              "\t<tr><td>3</td><td>7</td><td>11</td></tr>\n",
              "\t<tr><td>4</td><td>8</td><td>12</td></tr>\n",
              "</tbody>\n",
              "</table>\n"
            ],
            "text/markdown": "\nA matrix: 4 × 3 of type int\n\n| 1 | 5 |  9 |\n| 2 | 6 | 10 |\n| 3 | 7 | 11 |\n| 4 | 8 | 12 |\n\n",
            "text/latex": "A matrix: 4 × 3 of type int\n\\begin{tabular}{lll}\n\t 1 & 5 &  9\\\\\n\t 2 & 6 & 10\\\\\n\t 3 & 7 & 11\\\\\n\t 4 & 8 & 12\\\\\n\\end{tabular}\n",
            "text/plain": [
              "     [,1] [,2] [,3]\n",
              "[1,] 1    5     9  \n",
              "[2,] 2    6    10  \n",
              "[3,] 3    7    11  \n",
              "[4,] 4    8    12  "
            ]
          },
          "metadata": {}
        },
        {
          "output_type": "display_data",
          "data": {
            "text/html": [
              "<table class=\"dataframe\">\n",
              "<caption>A matrix: 4 × 3 of type int</caption>\n",
              "<tbody>\n",
              "\t<tr><td> 1</td><td> 2</td><td> 3</td></tr>\n",
              "\t<tr><td> 4</td><td> 5</td><td> 6</td></tr>\n",
              "\t<tr><td> 7</td><td> 8</td><td> 9</td></tr>\n",
              "\t<tr><td>10</td><td>11</td><td>12</td></tr>\n",
              "</tbody>\n",
              "</table>\n"
            ],
            "text/markdown": "\nA matrix: 4 × 3 of type int\n\n|  1 |  2 |  3 |\n|  4 |  5 |  6 |\n|  7 |  8 |  9 |\n| 10 | 11 | 12 |\n\n",
            "text/latex": "A matrix: 4 × 3 of type int\n\\begin{tabular}{lll}\n\t  1 &  2 &  3\\\\\n\t  4 &  5 &  6\\\\\n\t  7 &  8 &  9\\\\\n\t 10 & 11 & 12\\\\\n\\end{tabular}\n",
            "text/plain": [
              "     [,1] [,2] [,3]\n",
              "[1,]  1    2    3  \n",
              "[2,]  4    5    6  \n",
              "[3,]  7    8    9  \n",
              "[4,] 10   11   12  "
            ]
          },
          "metadata": {}
        },
        {
          "output_type": "display_data",
          "data": {
            "text/html": [
              "<table class=\"dataframe\">\n",
              "<caption>A matrix: 3 × 3 of type dbl</caption>\n",
              "<tbody>\n",
              "\t<tr><td> 3.1428571</td><td>-3</td><td> 1.8571429</td></tr>\n",
              "\t<tr><td>-1.7142857</td><td> 2</td><td>-1.2857143</td></tr>\n",
              "\t<tr><td>-0.1428571</td><td> 0</td><td> 0.1428571</td></tr>\n",
              "</tbody>\n",
              "</table>\n"
            ],
            "text/markdown": "\nA matrix: 3 × 3 of type dbl\n\n|  3.1428571 | -3 |  1.8571429 |\n| -1.7142857 |  2 | -1.2857143 |\n| -0.1428571 |  0 |  0.1428571 |\n\n",
            "text/latex": "A matrix: 3 × 3 of type dbl\n\\begin{tabular}{lll}\n\t  3.1428571 & -3 &  1.8571429\\\\\n\t -1.7142857 &  2 & -1.2857143\\\\\n\t -0.1428571 &  0 &  0.1428571\\\\\n\\end{tabular}\n",
            "text/plain": [
              "     [,1]       [,2] [,3]      \n",
              "[1,]  3.1428571 -3    1.8571429\n",
              "[2,] -1.7142857  2   -1.2857143\n",
              "[3,] -0.1428571  0    0.1428571"
            ]
          },
          "metadata": {}
        },
        {
          "output_type": "display_data",
          "data": {
            "text/html": [
              "<table class=\"dataframe\">\n",
              "<caption>A matrix: 3 × 3 of type dbl</caption>\n",
              "<tbody>\n",
              "\t<tr><td>2</td><td>3</td><td>2</td></tr>\n",
              "\t<tr><td>3</td><td>5</td><td>3</td></tr>\n",
              "\t<tr><td>1</td><td>6</td><td>8</td></tr>\n",
              "</tbody>\n",
              "</table>\n"
            ],
            "text/markdown": "\nA matrix: 3 × 3 of type dbl\n\n| 2 | 3 | 2 |\n| 3 | 5 | 3 |\n| 1 | 6 | 8 |\n\n",
            "text/latex": "A matrix: 3 × 3 of type dbl\n\\begin{tabular}{lll}\n\t 2 & 3 & 2\\\\\n\t 3 & 5 & 3\\\\\n\t 1 & 6 & 8\\\\\n\\end{tabular}\n",
            "text/plain": [
              "     [,1] [,2] [,3]\n",
              "[1,] 2    3    2   \n",
              "[2,] 3    5    3   \n",
              "[3,] 1    6    8   "
            ]
          },
          "metadata": {}
        }
      ]
    }
  ]
}